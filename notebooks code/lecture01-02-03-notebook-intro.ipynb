{
  "cells": [
    {
      "cell_type": "markdown",
      "id": "91e17fbe",
      "metadata": {
        "id": "91e17fbe"
      },
      "source": [
        "# 교과목: 데이터분석입문 자료"
      ]
    },
    {
      "cell_type": "markdown",
      "id": "86d008b4",
      "metadata": {
        "id": "86d008b4"
      },
      "source": [
        "# 파이썬 점검"
      ]
    },
    {
      "cell_type": "code",
      "execution_count": null,
      "id": "4da50725",
      "metadata": {
        "id": "4da50725",
        "outputId": "6977978b-de70-4b69-b0f4-32013728dcc0"
      },
      "outputs": [
        {
          "data": {
            "text/plain": [
              "'3.11.5 | packaged by Anaconda, Inc. | (main, Sep 11 2023, 13:26:23) [MSC v.1916 64 bit (AMD64)]'"
            ]
          },
          "execution_count": 1,
          "metadata": {},
          "output_type": "execute_result"
        }
      ],
      "source": [
        "import sys\n",
        "sys.version"
      ]
    },
    {
      "cell_type": "code",
      "execution_count": null,
      "id": "1ecee89a",
      "metadata": {
        "id": "1ecee89a",
        "outputId": "9692d13f-7d10-4992-af22-32ed1f06ef19"
      },
      "outputs": [
        {
          "data": {
            "text/plain": [
              "['C:\\\\ProgramData\\\\anaconda3-23-09',\n",
              " 'C:\\\\ProgramData\\\\anaconda3-23-09\\\\Lib\\\\site-packages']"
            ]
          },
          "execution_count": 2,
          "metadata": {},
          "output_type": "execute_result"
        }
      ],
      "source": [
        "import site\n",
        "site.getsitepackages()"
      ]
    },
    {
      "cell_type": "markdown",
      "id": "b6038a35",
      "metadata": {
        "id": "b6038a35"
      },
      "source": [
        "# 파이썬 기초"
      ]
    },
    {
      "cell_type": "markdown",
      "id": "e38478e3",
      "metadata": {
        "id": "e38478e3"
      },
      "source": [
        "## 기본 자료형"
      ]
    },
    {
      "cell_type": "code",
      "execution_count": null,
      "id": "505d8ecd",
      "metadata": {
        "id": "505d8ecd",
        "outputId": "078cc5ca-ea1b-49ad-a1c0-c509c5d37827"
      },
      "outputs": [
        {
          "data": {
            "text/plain": [
              "(int, float)"
            ]
          },
          "execution_count": 3,
          "metadata": {},
          "output_type": "execute_result"
        }
      ],
      "source": [
        "type(1), type(3.5)"
      ]
    },
    {
      "cell_type": "code",
      "execution_count": null,
      "id": "b1f17847",
      "metadata": {
        "id": "b1f17847",
        "outputId": "373ebf71-f722-4f8a-c4ce-17af23369fbd"
      },
      "outputs": [
        {
          "data": {
            "text/plain": [
              "(str, bool)"
            ]
          },
          "execution_count": 4,
          "metadata": {},
          "output_type": "execute_result"
        }
      ],
      "source": [
        "type('py'), type(True)"
      ]
    },
    {
      "cell_type": "code",
      "execution_count": null,
      "id": "5de33499",
      "metadata": {
        "id": "5de33499",
        "outputId": "435f792e-4e13-4c81-a76c-7082851db29d"
      },
      "outputs": [
        {
          "data": {
            "text/plain": [
              "(list, tuple)"
            ]
          },
          "execution_count": 7,
          "metadata": {},
          "output_type": "execute_result"
        }
      ],
      "source": [
        "type([]), type((1, ))"
      ]
    },
    {
      "cell_type": "code",
      "execution_count": null,
      "id": "569fa448",
      "metadata": {
        "id": "569fa448",
        "outputId": "20f3895e-2d61-48c0-c033-a12d2b5a0d90"
      },
      "outputs": [
        {
          "data": {
            "text/plain": [
              "(dict, set)"
            ]
          },
          "execution_count": 6,
          "metadata": {},
          "output_type": "execute_result"
        }
      ],
      "source": [
        "type({1:1, 2:4}), type({1, 2, 3})"
      ]
    },
    {
      "cell_type": "markdown",
      "id": "c35e4b54",
      "metadata": {
        "id": "c35e4b54"
      },
      "source": [
        "## 연산자"
      ]
    },
    {
      "cell_type": "code",
      "execution_count": null,
      "id": "64b689f1",
      "metadata": {
        "id": "64b689f1",
        "outputId": "c1569dc3-9335-4b22-bbbd-8f8c63a59347"
      },
      "outputs": [
        {
          "data": {
            "text/plain": [
              "(7, 4, 15, 1.5, 1)"
            ]
          },
          "execution_count": 9,
          "metadata": {},
          "output_type": "execute_result"
        }
      ],
      "source": [
        "3 + 4, 10 - 6, 3 * 5, 3 / 2, 3 // 2"
      ]
    },
    {
      "cell_type": "code",
      "execution_count": null,
      "id": "b76ae4c9",
      "metadata": {
        "id": "b76ae4c9",
        "outputId": "a767baa3-68c0-4a6e-964a-f100b55d29ba"
      },
      "outputs": [
        {
          "data": {
            "text/plain": [
              "(9, 1)"
            ]
          },
          "execution_count": 15,
          "metadata": {},
          "output_type": "execute_result"
        }
      ],
      "source": [
        "3 ** 2, 10 % 3"
      ]
    },
    {
      "cell_type": "code",
      "execution_count": null,
      "id": "c5c6ebdd",
      "metadata": {
        "id": "c5c6ebdd",
        "outputId": "c6f584dd-636a-4ce6-a1b6-5bda4888b7c5"
      },
      "outputs": [
        {
          "data": {
            "text/plain": [
              "'python'"
            ]
          },
          "execution_count": 17,
          "metadata": {},
          "output_type": "execute_result"
        }
      ],
      "source": [
        "'py' + 'thon'"
      ]
    },
    {
      "cell_type": "code",
      "execution_count": null,
      "id": "62700f33",
      "metadata": {
        "id": "62700f33",
        "outputId": "c6dbc159-08ae-4865-bdf0-416919c63f3e"
      },
      "outputs": [
        {
          "data": {
            "text/plain": [
              "'pypypy'"
            ]
          },
          "execution_count": 18,
          "metadata": {},
          "output_type": "execute_result"
        }
      ],
      "source": [
        "'py' * 3"
      ]
    },
    {
      "cell_type": "markdown",
      "id": "f3f62572",
      "metadata": {
        "id": "f3f62572"
      },
      "source": [
        "## 내장 함수"
      ]
    },
    {
      "cell_type": "code",
      "execution_count": null,
      "id": "bc6b2fa7",
      "metadata": {
        "id": "bc6b2fa7",
        "outputId": "a9e8d0dd-937e-477c-ce22-8b5d0d3c22e3"
      },
      "outputs": [
        {
          "data": {
            "text/plain": [
              "(3, 1)"
            ]
          },
          "execution_count": 13,
          "metadata": {},
          "output_type": "execute_result"
        }
      ],
      "source": [
        "divmod(10, 3)"
      ]
    },
    {
      "cell_type": "code",
      "execution_count": null,
      "id": "ea5577a3",
      "metadata": {
        "id": "ea5577a3",
        "outputId": "0218c1f1-31f6-4c21-98c5-50b69cf60df8"
      },
      "outputs": [
        {
          "data": {
            "text/plain": [
              "33.56"
            ]
          },
          "execution_count": 14,
          "metadata": {},
          "output_type": "execute_result"
        }
      ],
      "source": [
        "int('30') + float('3.56')"
      ]
    },
    {
      "cell_type": "code",
      "execution_count": null,
      "id": "d008ff38",
      "metadata": {
        "id": "d008ff38",
        "outputId": "8e9645a3-95a3-4e52-e2ce-4b0aa52de837"
      },
      "outputs": [
        {
          "data": {
            "text/plain": [
              "(10, False)"
            ]
          },
          "execution_count": 19,
          "metadata": {},
          "output_type": "execute_result"
        }
      ],
      "source": [
        "abs(-10), bool(0)"
      ]
    },
    {
      "cell_type": "code",
      "execution_count": null,
      "id": "970aed30",
      "metadata": {
        "id": "970aed30",
        "outputId": "69ee8091-ad0c-449a-8ebf-1a43cea5a059"
      },
      "outputs": [
        {
          "data": {
            "text/plain": [
              "('Z', 97, 65)"
            ]
          },
          "execution_count": 20,
          "metadata": {},
          "output_type": "execute_result"
        }
      ],
      "source": [
        "chr(90), ord('a'), ord('A')"
      ]
    },
    {
      "cell_type": "code",
      "execution_count": null,
      "id": "8e6a9e96",
      "metadata": {
        "id": "8e6a9e96",
        "outputId": "7335aae4-4581-4d1b-fab2-24ef10033484"
      },
      "outputs": [
        {
          "data": {
            "text/plain": [
              "23"
            ]
          },
          "execution_count": 21,
          "metadata": {},
          "output_type": "execute_result"
        }
      ],
      "source": [
        "eval('3 + 4 * 5')"
      ]
    },
    {
      "cell_type": "code",
      "execution_count": null,
      "id": "96afdbd2",
      "metadata": {
        "id": "96afdbd2",
        "outputId": "1383737f-2db9-4513-9684-e9ba36b0c031"
      },
      "outputs": [
        {
          "data": {
            "text/plain": [
              "140730912603880"
            ]
          },
          "execution_count": 22,
          "metadata": {},
          "output_type": "execute_result"
        }
      ],
      "source": [
        "s = 'py'\n",
        "id(s)"
      ]
    },
    {
      "cell_type": "code",
      "execution_count": null,
      "id": "32016f1f",
      "metadata": {
        "id": "32016f1f",
        "outputId": "8a6703fa-04f1-4ebe-92e6-297520fa02e2"
      },
      "outputs": [
        {
          "name": "stdout",
          "output_type": "stream",
          "text": [
            "나이는? 20\n"
          ]
        },
        {
          "data": {
            "text/plain": [
              "20"
            ]
          },
          "execution_count": 24,
          "metadata": {},
          "output_type": "execute_result"
        }
      ],
      "source": [
        "data = input('나이는? ')\n",
        "data = int(data)\n",
        "data"
      ]
    },
    {
      "cell_type": "code",
      "execution_count": null,
      "id": "e7edd30e",
      "metadata": {
        "id": "e7edd30e"
      },
      "outputs": [],
      "source": []
    }
  ],
  "metadata": {
    "kernelspec": {
      "display_name": "Python 3 (ipykernel)",
      "language": "python",
      "name": "python3"
    },
    "language_info": {
      "codemirror_mode": {
        "name": "ipython",
        "version": 3
      },
      "file_extension": ".py",
      "mimetype": "text/x-python",
      "name": "python",
      "nbconvert_exporter": "python",
      "pygments_lexer": "ipython3",
      "version": "3.11.5"
    },
    "colab": {
      "provenance": []
    }
  },
  "nbformat": 4,
  "nbformat_minor": 5
}